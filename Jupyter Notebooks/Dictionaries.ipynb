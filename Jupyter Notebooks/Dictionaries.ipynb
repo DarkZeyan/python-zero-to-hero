{
 "cells": [
  {
   "attachments": {},
   "cell_type": "markdown",
   "metadata": {},
   "source": [
    "# Dictionaries in Python\n",
    "During this session I will learn what are the Dictionaries, for what are they being used, what kind of data they store and common methods.\n",
    "\n",
    "### What do dictionaries are.\n",
    "- Dictionaries are  **unordered mappings** for storing objects. Previously, we saw how lists store objects in an ordered sequence, the different between the lists and dictionaries mainly remains in the fact that dictionaries use a **key-value pairing** instead.\n",
    "- This key-value allows users to quickly grab objects without needing to know an index location. Instead, you just call the key and it returns the value associated with that key.\n",
    "\n",
    "- Dictionaries use curly braces and colons to signify the relationship between a key and their associated values.\n",
    "    - **{'key1':'value1','key2':'value2'}**\n",
    "\n",
    "#### When to choose a list and when to choose a dictionary?\n",
    "\n",
    "- **Dictionaries**: Objects retrieved by key name\n",
    "    - Unordered and cannot be sorted.\n",
    "    So this kind data structure is useful when you want to retrieve quickly a value without needing to know its exact index location, this also comes with the con of not being able to being sorted because its kind of mapping, this means that a new key value will be inserted wherever Python deems more efficiently\n",
    "\n",
    "- **Lists**: Objects retrieved by location\n",
    "    - Ordered sequence, can be indexed or sliced.\n",
    "    On the other hand, with the lists you can retrieve based of locations. This allows that the actual list can be indexed, sliced and then sorted. So when you use dictionaries you lose that functionality.  Basically your trading off ease of calling and grabbing something from a dictionary very quickly with a key-value pair, and losing the ability to sort the items or have an index location off of them."
   ]
  },
  {
   "cell_type": "code",
   "execution_count": 2,
   "metadata": {},
   "outputs": [],
   "source": [
    "my_dict = {'key1':'value1','key2':'value2'}"
   ]
  }
 ],
 "metadata": {
  "kernelspec": {
   "display_name": "Python 3",
   "language": "python",
   "name": "python3"
  },
  "language_info": {
   "codemirror_mode": {
    "name": "ipython",
    "version": 3
   },
   "file_extension": ".py",
   "mimetype": "text/x-python",
   "name": "python",
   "nbconvert_exporter": "python",
   "pygments_lexer": "ipython3",
   "version": "3.9.13"
  },
  "orig_nbformat": 4,
  "vscode": {
   "interpreter": {
    "hash": "02e527f8183d0de1fd2e5a87be4a32065a28631e31e7e519e9eecc99952848bb"
   }
  }
 },
 "nbformat": 4,
 "nbformat_minor": 2
}
