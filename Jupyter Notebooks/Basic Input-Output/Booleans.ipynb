{
 "cells": [
  {
   "attachments": {},
   "cell_type": "markdown",
   "metadata": {},
   "source": [
    "# Booleans in Python\n",
    "In this file I'll cover all the information about the Booleans in Python lecture. I already know what do booleans are but Let's get some more information about booleans in this lecture.\n",
    "\n",
    "### What do booleans are?\n",
    "* Booleans are operators that allow you to convey True or False statements.\n",
    "\n",
    "These are very important later on when we deal with control flow and logic. This because a lot of times we want to check if a condition has happened\n",
    "\n",
    "\n",
    "* **Boolean statements in Python must be used with a capital letter at the beginning of the state, unlike another programming languages Python define these statements like if they were a class.**\n",
    "    * Example:\n",
    "        1. **True**\n",
    "        2. **False**\n"
   ]
  },
  {
   "cell_type": "markdown",
   "metadata": {},
   "source": []
  }
 ],
 "metadata": {
  "language_info": {
   "name": "python"
  },
  "orig_nbformat": 4
 },
 "nbformat": 4,
 "nbformat_minor": 2
}
