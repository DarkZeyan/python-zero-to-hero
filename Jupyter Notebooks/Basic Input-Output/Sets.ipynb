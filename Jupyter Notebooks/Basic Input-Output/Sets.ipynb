{
 "cells": [
  {
   "attachments": {},
   "cell_type": "markdown",
   "metadata": {},
   "source": [
    "# Sets in Python\n",
    "In this lecture we'll cover the Sets, what they are, for what are they used. Also we're gonna know what are their basics and main built-in methods.\n",
    "\n",
    "## What do Sets are?\n",
    "- Sets are unordered collections of unique elements\n",
    "\n",
    "- This means that there can only be one representative of the same object.\n",
    "    - EXAMPLE: You can't have the number 2 more than once or letter A more than once."
   ]
  },
  {
   "cell_type": "markdown",
   "metadata": {},
   "source": []
  }
 ],
 "metadata": {
  "language_info": {
   "name": "python"
  },
  "orig_nbformat": 4
 },
 "nbformat": 4,
 "nbformat_minor": 2
}
