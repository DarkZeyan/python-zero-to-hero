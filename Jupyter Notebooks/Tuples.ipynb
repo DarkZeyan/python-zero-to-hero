{
 "cells": [
  {
   "attachments": {},
   "cell_type": "markdown",
   "metadata": {},
   "source": [
    "# Tuples in Python\n",
    "During this session I will cover the \"Tuples in Python\" lecture, where I hope to learn what Tuples are, for what are they used, their basics and their main methods.\n",
    "\n",
    "## What is a Tuple?\n",
    "- Tuples are a Data Structure very similar to lists. However they have one key difference - immutability. They're immutable.  This means they cannot be mutated or changed. \n",
    "    - Once an element is inside a tuple (assigned to an index position), it cannot be reassigned.\n",
    "    - Tuples use **parenthesis**: ***(1,2,3)*** instead of square brackets  which are the ones lists use.\n"
   ]
  },
  {
   "attachments": {},
   "cell_type": "markdown",
   "metadata": {},
   "source": []
  }
 ],
 "metadata": {
  "language_info": {
   "name": "python"
  },
  "orig_nbformat": 4
 },
 "nbformat": 4,
 "nbformat_minor": 2
}
